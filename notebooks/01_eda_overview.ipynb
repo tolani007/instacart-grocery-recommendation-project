{
 "cells": [
  {
   "cell_type": "markdown",
   "id": "b4cb75db",
   "metadata": {},
   "source": [
    "\n",
    "# 🧠 EDA Notebook - Step 1: Import Libraries\n",
    "\n",
    "In this notebook, we're starting with a simple but powerful step: **importing the right Python libraries** for exploratory data analysis (EDA).  \n",
    "We're using the following:\n",
    "\n",
    "- **pandas**: to manipulate tabular data (like Excel but 100x better)\n",
    "- **numpy**: to do math with arrays and numbers\n",
    "- **matplotlib.pyplot**: to make basic plots and charts\n",
    "- **seaborn**: to make prettier charts with less code\n",
    "\n",
    "We also tweak some settings:\n",
    "- Show **all columns** in tables\n",
    "- Use the **\"whitegrid\"** style in plots (clean and readable)\n",
    "\n",
    "Now let’s go...\n"
   ]
  },
  {
   "cell_type": "code",
   "execution_count": null,
   "id": "6ee0d12c",
   "metadata": {},
   "outputs": [],
   "source": [
    "\n",
    "import pandas as pd\n",
    "import numpy as np\n",
    "import matplotlib.pyplot as plt\n",
    "import seaborn as sns\n",
    "\n",
    "# Display full DataFrame width\n",
    "pd.set_option('display.max_columns', None)\n",
    "\n",
    "# Set Seaborn theme\n",
    "sns.set(style=\"whitegrid\")\n"
   ]
  }
 ],
 "metadata": {},
 "nbformat": 4,
 "nbformat_minor": 5
}
